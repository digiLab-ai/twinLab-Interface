{
 "cells": [
  {
   "cell_type": "markdown",
   "metadata": {},
   "source": [
    "## Basic test"
   ]
  },
  {
   "cell_type": "code",
   "execution_count": null,
   "metadata": {},
   "outputs": [],
   "source": [
    "import pandas as pd\n",
    "\n",
    "import twinlab as tl\n",
    "\n",
    "df = pd.DataFrame({'X': [1, 2, 3, 4], 'y': [1, 4, 9, 16]})\n",
    "dataset = tl.Dataset(\"my_dataset\")\n",
    "dataset.upload(df)\n",
    "emulator = tl.Emulator('emulator')\n",
    "emulator.train(dataset, ['X'], ['y'])"
   ]
  },
  {
   "cell_type": "markdown",
   "metadata": {},
   "source": [
    "## Server URL"
   ]
  },
  {
   "cell_type": "code",
   "execution_count": null,
   "metadata": {},
   "outputs": [],
   "source": [
    "import twinlab as tl\n",
    "\n",
    "tl.get_server_url()"
   ]
  },
  {
   "cell_type": "markdown",
   "metadata": {},
   "source": [
    "## Logo"
   ]
  },
  {
   "cell_type": "code",
   "execution_count": null,
   "metadata": {},
   "outputs": [],
   "source": [
    "import matplotlib.pyplot as plt\n",
    "import numpy as np\n",
    "import pandas as pd\n",
    "\n",
    "import twinlab as tl\n",
    "\n",
    "upload_data = False\n",
    "train_emulator = False\n",
    "\n",
    "# Get dataset\n",
    "dataset = tl.Dataset(\"quickstart\")\n",
    "df = tl.load_example_dataset('quickstart')\n",
    "if upload_data:\n",
    "    dataset.upload(df)\n",
    "\n",
    "# Train emulator\n",
    "emulator = tl.Emulator('quickstart')\n",
    "if train_emulator:\n",
    "    params = tl.TrainParams(train_test_ratio=0.95)\n",
    "    emulator.train(dataset, ['x'], ['y'], params=params)\n",
    "\n",
    "# Colors\n",
    "digilab_dark_blue = \"#162448\"\n",
    "digilab_light_blue = \"#009FE3\"\n",
    "digilab_green = \"#7DB928\"\n",
    "digilab_cement = \"#EEEEEE\"\n",
    "\n",
    "# Choose logo\n",
    "# logo = 1 # Blur/contours\n",
    "logo = 2 # Samples light\n",
    "# logo = 3 # Samples dark\n",
    "\n",
    "# Parameters\n",
    "if logo == 1: # Blur/contours\n",
    "    prediction = True\n",
    "    num_samples = None\n",
    "    data = True\n",
    "    figsize = (10, 5)\n",
    "    contour_color = digilab_green\n",
    "    scatter_color = digilab_cement\n",
    "    background_color = digilab_dark_blue\n",
    "    text_color = digilab_light_blue\n",
    "    text_x, text_y = 0.55, 1.\n",
    "    text_size = 60\n",
    "    text_weight = 'heavy'\n",
    "elif logo in [2, 3]:\n",
    "    prediction = False\n",
    "    num_samples = 100\n",
    "    data = True\n",
    "    figsize = (10, 5)\n",
    "    if logo == 2:\n",
    "        sample_color = digilab_light_blue\n",
    "        scatter_color = digilab_dark_blue\n",
    "        background_color = digilab_cement\n",
    "        text_color = digilab_dark_blue\n",
    "    elif logo == 3:\n",
    "        sample_color = digilab_green\n",
    "        scatter_color = digilab_cement\n",
    "        background_color = digilab_dark_blue\n",
    "        text_color = digilab_light_blue\n",
    "    else:\n",
    "        raise ValueError(\"Invalid logo number\")\n",
    "    text_x, text_y = 0.55, 1.\n",
    "    text_size = 60\n",
    "    text_weight = 0\n",
    "else:\n",
    "    raise ValueError(\"Invalid logo number\")\n",
    "\n",
    "# Plot\n",
    "if prediction:\n",
    "    plt = emulator.plot('x', 'y', x_lim=(0., 1.), color=contour_color, figsize=figsize, label=None)\n",
    "if num_samples is not None:\n",
    "    if not prediction:\n",
    "        fig, ax = plt.subplots(figsize=figsize)\n",
    "    df_samples_x = pd.DataFrame({'x': np.linspace(0., 1., 101)})\n",
    "    params = tl.SampleParams(seed=0)\n",
    "    df_samples_y = emulator.sample(df_samples_x, num_samples, params=params)\n",
    "    for i in range(num_samples):\n",
    "        plt.plot(df_samples_x, df_samples_y[('y', str(i))], color=sample_color, alpha=0.225, zorder=1)\n",
    "if data:\n",
    "    plt.scatter(df['x'], df['y'], s=10., color=scatter_color, zorder=2)\n",
    "plt.gca().set_facecolor(background_color)\n",
    "plt.xlim(0., 1.)\n",
    "plt.xlabel(None)\n",
    "plt.xticks([])\n",
    "plt.ylim(-1.5, 2.)\n",
    "plt.ylabel(None)\n",
    "plt.yticks([])\n",
    "# plt.gcf().set_dpi(200)\n",
    "plt.text(text_x, text_y, \"twinLab\", family=\"Exo 2\", size=text_size, weight='bold', color=text_color)\n",
    "plt.show()"
   ]
  },
  {
   "cell_type": "markdown",
   "metadata": {},
   "source": [
    "## Big data"
   ]
  },
  {
   "cell_type": "code",
   "execution_count": null,
   "metadata": {},
   "outputs": [],
   "source": [
    "import numpy as np\n",
    "import pandas as pd\n",
    "\n",
    "import twinlab as tl\n",
    "\n",
    "nrow = 1001\n",
    "\n",
    "df = pd.DataFrame({'X': np.random.uniform(size=nrow), 'y': np.random.uniform(size=nrow)})\n",
    "dataset = tl.Dataset(\"dataset\")\n",
    "dataset.upload(df)\n",
    "\n",
    "emulator = tl.Emulator('emulator')\n",
    "emulator.train(dataset, ['X'], ['y'])"
   ]
  },
  {
   "cell_type": "code",
   "execution_count": null,
   "metadata": {},
   "outputs": [],
   "source": [
    "import twinlab as tl"
   ]
  },
  {
   "cell_type": "markdown",
   "metadata": {},
   "source": [
    "## Score"
   ]
  },
  {
   "cell_type": "code",
   "execution_count": null,
   "metadata": {},
   "outputs": [],
   "source": [
    "emulator = tl.Emulator(\"my_emulator\")\n",
    "params = tl.ScoreParams(metric=\"MSLL\", combined_score=True)\n",
    "emulator.score(params=params)"
   ]
  },
  {
   "cell_type": "code",
   "execution_count": null,
   "metadata": {},
   "outputs": [],
   "source": [
    "emulator = tl.Emulator(\"my_emulator\")\n",
    "params = tl.ScoreParams(metric=\"MSE\", combined_score=False)\n",
    "emulator.score(params=params)"
   ]
  },
  {
   "cell_type": "markdown",
   "metadata": {},
   "source": [
    "## Long datasets"
   ]
  },
  {
   "cell_type": "code",
   "execution_count": null,
   "metadata": {},
   "outputs": [],
   "source": [
    "import numpy as np\n",
    "import pandas as pd\n",
    "\n",
    "import twinlab as tl\n",
    "\n",
    "nrow = 101\n",
    "\n",
    "df = pd.DataFrame({'X': np.random.uniform(size=nrow), 'y': np.random.uniform(size=nrow)})\n",
    "dataset = tl.Dataset(\"dataset\")\n",
    "dataset.upload(df)\n",
    "\n",
    "emulator = tl.Emulator('emulator')\n",
    "estimator_params = tl.EstimatorParams(estimator_type=\"heteroskedastic_gp\", covar_module=\"LIN\")\n",
    "params = tl.TrainParams(estimator_params=estimator_params)\n",
    "emulator.train(dataset, ['X'], ['y'], params=params)"
   ]
  },
  {
   "cell_type": "markdown",
   "metadata": {},
   "source": [
    "## Documentation"
   ]
  },
  {
   "cell_type": "code",
   "execution_count": null,
   "metadata": {},
   "outputs": [],
   "source": [
    "import pandas as pd\n",
    "\n",
    "import twinlab as tl\n",
    "\n",
    "upload_data = True\n",
    "train_emulator = True\n",
    "\n",
    "# Get dataset\n",
    "dataset = tl.Dataset(\"quickstart\")\n",
    "df = tl.load_example_dataset('quickstart')\n",
    "if upload_data:\n",
    "    dataset.upload(df)\n",
    "\n",
    "# Train emulator\n",
    "emulator = tl.Emulator('quickstart')\n",
    "if train_emulator:\n",
    "    params = tl.TrainParams(train_test_ratio=0.95)\n",
    "    emulator.train(dataset, ['x'], ['y'], params=params)"
   ]
  },
  {
   "cell_type": "markdown",
   "metadata": {},
   "source": [
    "`tl.join_samples()`"
   ]
  },
  {
   "cell_type": "code",
   "execution_count": null,
   "metadata": {},
   "outputs": [],
   "source": [
    "df_X = pd.DataFrame({'x': [0.1, 0.2, 0.3]})\n",
    "df_y1 = emulator.sample(df_X, 1)\n",
    "df_y2 = emulator.sample(df_X, 3)\n",
    "tl.join_samples(df_y1, df_y2)"
   ]
  },
  {
   "cell_type": "markdown",
   "metadata": {},
   "source": [
    "`tl.get_sample`"
   ]
  },
  {
   "cell_type": "code",
   "execution_count": null,
   "metadata": {},
   "outputs": [],
   "source": [
    "df_X = pd.DataFrame({\"x\": [0.1, 0.2, 0.3]})\n",
    "df = emulator.sample(df_X, 3)\n",
    "tl.get_sample(df, 2)"
   ]
  },
  {
   "cell_type": "markdown",
   "metadata": {},
   "source": [
    "`dataset.analyse_variance()`"
   ]
  },
  {
   "cell_type": "code",
   "execution_count": null,
   "metadata": {},
   "outputs": [],
   "source": [
    "dataset.analyse_variance(columns=[\"x\", \"y\"])"
   ]
  },
  {
   "cell_type": "markdown",
   "metadata": {},
   "source": [
    "`dataset.view()`"
   ]
  },
  {
   "cell_type": "code",
   "execution_count": null,
   "metadata": {},
   "outputs": [],
   "source": [
    "dataset = tl.Dataset(\"quickstart\")\n",
    "dataset.view()"
   ]
  },
  {
   "cell_type": "markdown",
   "metadata": {},
   "source": [
    "`dataset.summarise()`"
   ]
  },
  {
   "cell_type": "code",
   "execution_count": null,
   "metadata": {},
   "outputs": [],
   "source": [
    "dataset = tl.Dataset(\"quickstart\")\n",
    "dataset.summarise()"
   ]
  },
  {
   "cell_type": "code",
   "execution_count": null,
   "metadata": {},
   "outputs": [],
   "source": [
    "tl.load_example_dataset(\"quickstart\")"
   ]
  },
  {
   "cell_type": "markdown",
   "metadata": {},
   "source": [
    "## Learn"
   ]
  },
  {
   "cell_type": "code",
   "execution_count": null,
   "metadata": {},
   "outputs": [],
   "source": [
    "import twinlab as tl\n",
    "\n",
    "def my_simulator(df_X):\n",
    "    X = df_X.values\n",
    "    y = X**2\n",
    "    return pd.DataFrame({\"x\": X, \"y\": y})\n",
    "\n",
    "    \n",
    "\n",
    "emulator = tl.Emulator(\"quickstart\")\n",
    "dataset = tl.Dataset(\"quickstart\")\n",
    "emulator.learn(\n",
    "    dataset=dataset,\n",
    "    inputs=[\"x\"],\n",
    "    outputs=[\"y\"],\n",
    "    num_loops=3,\n",
    "    num_points_per_loop=5,\n",
    "    acq_func=\"explore\",\n",
    "    simulation=my_simulator,\n",
    "    verbose=True,\n",
    ")"
   ]
  },
  {
   "cell_type": "code",
   "execution_count": null,
   "metadata": {},
   "outputs": [],
   "source": [
    "df = pd.DataFrame({\"X\": [1, 2, 3, 4], \"y\": [1, 4, 9, 16]})\n",
    "dataset = tl.Dataset(\"my_dataset\")\n",
    "dataset.upload(df) \n",
    "params = tl.TrainParams(train_test_ratio=1)\n",
    "emulator.train(dataset, [\"X\"], [\"y\"], params=params)\n",
    "score = emulator.score()\n",
    "print(score)"
   ]
  },
  {
   "cell_type": "code",
   "execution_count": null,
   "metadata": {},
   "outputs": [],
   "source": [
    "df = pd.DataFrame({\"X\": [1, 2, 3, 4], \"y1\": [1, 4, 9, 16], \"y2\": [2, 8, 18, 32]})\n",
    "dataset = tl.Dataset(\"my_dataset\")\n",
    "dataset.upload(df) \n",
    "params = tl.TrainParams(train_test_ratio=1, output_retained_dimensions=1)\n",
    "emulator.train(dataset, [\"X\"], [\"y1\", 'y2'], params=params)\n",
    "score = emulator.score()\n",
    "print(score)"
   ]
  },
  {
   "cell_type": "markdown",
   "metadata": {},
   "source": [
    "## Recommend boundaries"
   ]
  },
  {
   "cell_type": "code",
   "execution_count": 1,
   "metadata": {},
   "outputs": [
    {
     "name": "stdout",
     "output_type": "stream",
     "text": [
      "\n",
      "          ====== TwinLab Client Initialisation ======\n",
      "          Version     : 2.5.0\n",
      "          Server      : https://twinlab.digilab.co.uk/dev\n",
      "          Environment : /Users/mead/digiLab/twinLab/.env\n",
      "\n",
      "{'x': (0.0, 1.0)}\n",
      "Job recommend process ID: a6ee3498-d64f-4c70-a93d-84875204b533\n",
      "Job status for recommend: Your job has finished and is on its way back to you.\n",
      "Recommended samples:\n",
      "          x\n",
      "0  0.545020\n",
      "1  0.000000\n",
      "2  0.279403\n",
      "Acquisition function value:\n",
      "0.16009767286951293\n"
     ]
    }
   ],
   "source": [
    "import pandas as pd\n",
    "\n",
    "import twinlab as tl\n",
    "\n",
    "upload_data = False\n",
    "train_emulator = False\n",
    "\n",
    "df = tl.load_example_dataset(\"quickstart\")\n",
    "dataset = tl.Dataset(\"quickstart\")\n",
    "if upload_data:\n",
    "    dataset.upload(df, verbose=True)\n",
    "\n",
    "emulator = tl.Emulator(\"quickstart\")\n",
    "if train_emulator:\n",
    "    emulator.train(dataset, [\"x\"], [\"y\"], verbose=True)\n",
    "\n",
    "bounds = {\"x\": (0., 1.)}\n",
    "# bounds = pd.DataFrame(bounds)\n",
    "# bounds.rename(index={0: \"lower_bounds\", 1: \"upper_bounds\"}, inplace=True)\n",
    "print(bounds)\n",
    "params = tl.RecommendParams(bounds=bounds)\n",
    "df, af = emulator.recommend(3, \"optimise\", params=params, verbose=True)"
   ]
  },
  {
   "cell_type": "markdown",
   "metadata": {},
   "source": [
    "## Initial design boundaries"
   ]
  },
  {
   "cell_type": "code",
   "execution_count": 5,
   "metadata": {},
   "outputs": [
    {
     "name": "stdout",
     "output_type": "stream",
     "text": [
      "      x    y\n",
      "0  0.05  2.5\n",
      "1  0.25  0.5\n",
      "2  0.75 -4.5\n",
      "3  0.35 -1.5\n",
      "4  0.45  4.5\n",
      "5  0.65  1.5\n",
      "6  0.85  3.5\n",
      "7  0.55 -2.5\n",
      "8  0.95 -0.5\n",
      "9  0.15 -3.5\n"
     ]
    }
   ],
   "source": [
    "import twinlab as tl\n",
    "\n",
    "emulator = tl.Emulator(\"my_emulator\")\n",
    "priors = [\n",
    "    tl.Prior(\"x\", tl.distributions.Uniform(0., 1.)),\n",
    "    tl.Prior(\"y\", tl.distributions.Uniform(-5., 5.)),\n",
    "]\n",
    "params = tl.DesignParams(sampling_method=tl.sampling.LatinHypercube(scramble=False))\n",
    "df = emulator.design(priors, 10, params=params)\n",
    "\n",
    "print(df)"
   ]
  }
 ],
 "metadata": {
  "kernelspec": {
   "display_name": "twinlab-YB0hfKvD-py3.10",
   "language": "python",
   "name": "python3"
  },
  "language_info": {
   "codemirror_mode": {
    "name": "ipython",
    "version": 3
   },
   "file_extension": ".py",
   "mimetype": "text/x-python",
   "name": "python",
   "nbconvert_exporter": "python",
   "pygments_lexer": "ipython3",
   "version": "3.10.14"
  }
 },
 "nbformat": 4,
 "nbformat_minor": 2
}
